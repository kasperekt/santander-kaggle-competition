{
 "cells": [
  {
   "cell_type": "code",
   "execution_count": 18,
   "metadata": {},
   "outputs": [],
   "source": [
    "import numpy as np\n",
    "import lightgbm as lgb\n",
    "import os\n",
    "import sys\n",
    "\n",
    "os.chdir('../src')\n",
    "\n",
    "from data import get_data"
   ]
  },
  {
   "cell_type": "code",
   "execution_count": 46,
   "metadata": {},
   "outputs": [
    {
     "name": "stdout",
     "output_type": "stream",
     "text": [
      "(305810, 200) (305810,) (30000, 200) (30000,)\n",
      "Train: 0 = 152905, 1 = 152905\n",
      "Val: 0 = 26997, 1 = 3003\n"
     ]
    }
   ],
   "source": [
    "X_train, X_val, y_train, y_val = get_data(strategy='oversampling')\n",
    "\n",
    "print(X_train.shape, y_train.shape, X_val.shape, y_val.shape)\n",
    "print('Train: 0 = {}, 1 = {}'.format(np.sum(y_train == 0), np.sum(y_train == 1)))\n",
    "print('Val: 0 = {}, 1 = {}'.format(np.sum(y_val == 0), np.sum(y_val == 1)))"
   ]
  },
  {
   "cell_type": "code",
   "execution_count": 47,
   "metadata": {},
   "outputs": [],
   "source": [
    "# Convert it to lgb dataset\n",
    "train_data = lgb.Dataset(X_train, label=y_train)\n",
    "val_data = lgb.Dataset(X_val, label=y_val, reference=train_data)"
   ]
  },
  {
   "cell_type": "code",
   "execution_count": 43,
   "metadata": {},
   "outputs": [],
   "source": [
    "param = {'num_leaves': 31, 'num_trees': 100, 'objective': 'binary', 'metric': 'auc'}\n",
    "\n",
    "#num_round = 2\n",
    "#bst = lgb.train(param, train_data, num_round, valid_sets=[val_data])\n",
    "\n",
    "#ypred = bst.predict(X_val, num_iteration=bst.best_iteration)\n",
    "#ypred"
   ]
  },
  {
   "cell_type": "code",
   "execution_count": null,
   "metadata": {},
   "outputs": [],
   "source": []
  },
  {
   "cell_type": "code",
   "execution_count": 49,
   "metadata": {},
   "outputs": [
    {
     "data": {
      "text/plain": [
       "array([[ 12.8103,  -1.3998,  11.9438, ...,   9.0862,  16.3147,  -2.6752],\n",
       "       [ 11.2991,   0.077 ,   7.6067, ...,   8.2904,  16.6925,  -9.0824],\n",
       "       [ 14.1295,   1.2202,  11.6643, ...,   9.3099,  17.4495,   4.3893],\n",
       "       ...,\n",
       "       [ 12.5079,   3.1649,  12.0564, ...,  10.1858,   8.7742,  -0.701 ],\n",
       "       [ 15.7566,  -5.0856,   7.2151, ...,   8.8808,  13.2064,   3.6064],\n",
       "       [ 10.1139,  -1.0369,   6.3009, ...,   9.4167,  10.653 , -18.6209]],\n",
       "      dtype=float32)"
      ]
     },
     "execution_count": 49,
     "metadata": {},
     "output_type": "execute_result"
    }
   ],
   "source": [
    "val_data.data"
   ]
  },
  {
   "cell_type": "code",
   "execution_count": null,
   "metadata": {},
   "outputs": [],
   "source": []
  }
 ],
 "metadata": {
  "kernelspec": {
   "display_name": "Python 3",
   "language": "python",
   "name": "python3"
  },
  "language_info": {
   "codemirror_mode": {
    "name": "ipython",
    "version": 3
   },
   "file_extension": ".py",
   "mimetype": "text/x-python",
   "name": "python",
   "nbconvert_exporter": "python",
   "pygments_lexer": "ipython3",
   "version": "3.6.6"
  }
 },
 "nbformat": 4,
 "nbformat_minor": 2
}
