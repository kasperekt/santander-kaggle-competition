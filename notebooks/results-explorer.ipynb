{
 "cells": [
  {
   "cell_type": "code",
   "execution_count": 10,
   "metadata": {},
   "outputs": [],
   "source": [
    "import numpy as np\n",
    "import pandas as pd\n",
    "\n",
    "df = pd.read_csv('../out/results.lightgbm.28-3_15-31-27.csv')"
   ]
  },
  {
   "cell_type": "code",
   "execution_count": 13,
   "metadata": {},
   "outputs": [
    {
     "data": {
      "text/html": [
       "<div>\n",
       "<style scoped>\n",
       "    .dataframe tbody tr th:only-of-type {\n",
       "        vertical-align: middle;\n",
       "    }\n",
       "\n",
       "    .dataframe tbody tr th {\n",
       "        vertical-align: top;\n",
       "    }\n",
       "\n",
       "    .dataframe thead th {\n",
       "        text-align: right;\n",
       "    }\n",
       "</style>\n",
       "<table border=\"1\" class=\"dataframe\">\n",
       "  <thead>\n",
       "    <tr style=\"text-align: right;\">\n",
       "      <th></th>\n",
       "      <th>Unnamed: 0</th>\n",
       "      <th>learning_rate</th>\n",
       "      <th>max_bin</th>\n",
       "      <th>metric</th>\n",
       "      <th>min_data_in_leaf</th>\n",
       "      <th>num_iterations</th>\n",
       "      <th>num_leaves</th>\n",
       "      <th>objective</th>\n",
       "      <th>reg_alpha</th>\n",
       "      <th>reg_lambda</th>\n",
       "      <th>score</th>\n",
       "      <th>train_score</th>\n",
       "    </tr>\n",
       "  </thead>\n",
       "  <tbody>\n",
       "    <tr>\n",
       "      <th>0</th>\n",
       "      <td>0</td>\n",
       "      <td>0.03</td>\n",
       "      <td>254</td>\n",
       "      <td>auc</td>\n",
       "      <td>300</td>\n",
       "      <td>5000</td>\n",
       "      <td>24</td>\n",
       "      <td>binary</td>\n",
       "      <td>1.0</td>\n",
       "      <td>1.0</td>\n",
       "      <td>0.899550</td>\n",
       "      <td>0.974466</td>\n",
       "    </tr>\n",
       "    <tr>\n",
       "      <th>1</th>\n",
       "      <td>1</td>\n",
       "      <td>0.03</td>\n",
       "      <td>254</td>\n",
       "      <td>auc</td>\n",
       "      <td>300</td>\n",
       "      <td>5000</td>\n",
       "      <td>24</td>\n",
       "      <td>binary</td>\n",
       "      <td>1.0</td>\n",
       "      <td>1.4</td>\n",
       "      <td>0.899875</td>\n",
       "      <td>0.975166</td>\n",
       "    </tr>\n",
       "    <tr>\n",
       "      <th>2</th>\n",
       "      <td>2</td>\n",
       "      <td>0.03</td>\n",
       "      <td>254</td>\n",
       "      <td>auc</td>\n",
       "      <td>300</td>\n",
       "      <td>5000</td>\n",
       "      <td>24</td>\n",
       "      <td>binary</td>\n",
       "      <td>1.0</td>\n",
       "      <td>1.4</td>\n",
       "      <td>0.899875</td>\n",
       "      <td>0.975166</td>\n",
       "    </tr>\n",
       "  </tbody>\n",
       "</table>\n",
       "</div>"
      ],
      "text/plain": [
       "   Unnamed: 0  learning_rate  max_bin metric  min_data_in_leaf  \\\n",
       "0           0           0.03      254    auc               300   \n",
       "1           1           0.03      254    auc               300   \n",
       "2           2           0.03      254    auc               300   \n",
       "\n",
       "   num_iterations  num_leaves objective  reg_alpha  reg_lambda     score  \\\n",
       "0            5000          24    binary        1.0         1.0  0.899550   \n",
       "1            5000          24    binary        1.0         1.4  0.899875   \n",
       "2            5000          24    binary        1.0         1.4  0.899875   \n",
       "\n",
       "   train_score  \n",
       "0     0.974466  \n",
       "1     0.975166  \n",
       "2     0.975166  "
      ]
     },
     "execution_count": 13,
     "metadata": {},
     "output_type": "execute_result"
    }
   ],
   "source": [
    "df.head(n=3)"
   ]
  },
  {
   "cell_type": "code",
   "execution_count": 14,
   "metadata": {},
   "outputs": [],
   "source": [
    "def compare(attribute, df):\n",
    "    options = df[attribute].unique()\n",
    "    print('\\n[{}]'.format(attribute))\n",
    "    for option in options:\n",
    "        values = df[df[attribute] == option]\n",
    "        mean = values.mean().score\n",
    "        std = values.std().score\n",
    "        print('{}: {} ± {}'.format(option, mean, std)) "
   ]
  },
  {
   "cell_type": "code",
   "execution_count": 15,
   "metadata": {},
   "outputs": [
    {
     "name": "stdout",
     "output_type": "stream",
     "text": [
      "\n",
      "[max_bin]\n",
      "254: 0.9002961195857885 ± 0.0004178380204347397\n",
      "\n",
      "[min_data_in_leaf]\n",
      "300: 0.9002827038305503 ± 0.00044446338366322465\n",
      "500: 0.9003095353410266 ± 0.0003952815699867158\n",
      "\n",
      "[num_leaves]\n",
      "24: 0.9002961195857885 ± 0.0004178380204347397\n",
      "\n",
      "[reg_lambda]\n",
      "1.0: 0.9002070222356693 ± 0.0004505538981224149\n",
      "1.4: 0.9003026406669065 ± 0.00045432507873997385\n",
      "1.6: 0.9004589562543647 ± 0.00046858349448092155\n",
      "1.8: 0.9001365495655587 ± 0.0003608122075596907\n",
      "2.0: 0.900368908125325 ± 0.00026704282166524197\n",
      "\n",
      "[reg_alpha]\n",
      "1.0: 0.8999386368913491 ± 0.0003949270068848722\n",
      "1.2: 0.9002895313190079 ± 0.00046184976555284536\n",
      "1.4: 0.9003516933262633 ± 0.0003078131837154825\n",
      "1.6: 0.9005514953427388 ± 0.0003965139610050105\n",
      "1.8: 0.9001822327621462 ± 0.0004372627007583283\n",
      "2.0: 0.9004631278732252 ± 0.00023642397500761093\n"
     ]
    }
   ],
   "source": [
    "compare('max_bin', df)\n",
    "compare('min_data_in_leaf', df)\n",
    "compare('num_leaves', df)\n",
    "compare('reg_lambda', df)\n",
    "compare('reg_alpha', df)"
   ]
  },
  {
   "cell_type": "code",
   "execution_count": 18,
   "metadata": {},
   "outputs": [
    {
     "data": {
      "text/plain": [
       "Unnamed: 0                55\n",
       "learning_rate           0.03\n",
       "max_bin                  254\n",
       "metric                   auc\n",
       "min_data_in_leaf         500\n",
       "num_iterations          5000\n",
       "num_leaves                24\n",
       "objective             binary\n",
       "reg_alpha                1.6\n",
       "reg_lambda               1.4\n",
       "score               0.901178\n",
       "train_score         0.974448\n",
       "Name: 55, dtype: object"
      ]
     },
     "execution_count": 18,
     "metadata": {},
     "output_type": "execute_result"
    }
   ],
   "source": [
    "best_idx = df['score'].idxmax()\n",
    "df.loc[best_idx]"
   ]
  },
  {
   "cell_type": "code",
   "execution_count": 19,
   "metadata": {},
   "outputs": [
    {
     "data": {
      "text/plain": [
       "Unnamed: 0                 6\n",
       "learning_rate           0.03\n",
       "max_bin                  254\n",
       "metric                   auc\n",
       "min_data_in_leaf         300\n",
       "num_iterations          5000\n",
       "num_leaves                24\n",
       "objective             binary\n",
       "reg_alpha                1.2\n",
       "reg_lambda                 1\n",
       "score               0.899365\n",
       "train_score         0.971399\n",
       "Name: 6, dtype: object"
      ]
     },
     "execution_count": 19,
     "metadata": {},
     "output_type": "execute_result"
    }
   ],
   "source": [
    "worst_idx = df['score'].idxmin()\n",
    "df.loc[worst_idx]"
   ]
  },
  {
   "cell_type": "code",
   "execution_count": null,
   "metadata": {},
   "outputs": [],
   "source": []
  }
 ],
 "metadata": {
  "kernelspec": {
   "display_name": "Python 3",
   "language": "python",
   "name": "python3"
  },
  "language_info": {
   "codemirror_mode": {
    "name": "ipython",
    "version": 3
   },
   "file_extension": ".py",
   "mimetype": "text/x-python",
   "name": "python",
   "nbconvert_exporter": "python",
   "pygments_lexer": "ipython3",
   "version": "3.6.6"
  }
 },
 "nbformat": 4,
 "nbformat_minor": 2
}
