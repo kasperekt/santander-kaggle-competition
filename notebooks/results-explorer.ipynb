{
 "cells": [
  {
   "cell_type": "code",
   "execution_count": 6,
   "metadata": {},
   "outputs": [],
   "source": [
    "import numpy as np\n",
    "import pandas as pd\n",
    "\n",
    "df = pd.read_csv('../out/results.26-3_22-4-36.csv')"
   ]
  },
  {
   "cell_type": "code",
   "execution_count": 38,
   "metadata": {},
   "outputs": [
    {
     "data": {
      "text/html": [
       "<div>\n",
       "<style scoped>\n",
       "    .dataframe tbody tr th:only-of-type {\n",
       "        vertical-align: middle;\n",
       "    }\n",
       "\n",
       "    .dataframe tbody tr th {\n",
       "        vertical-align: top;\n",
       "    }\n",
       "\n",
       "    .dataframe thead th {\n",
       "        text-align: right;\n",
       "    }\n",
       "</style>\n",
       "<table border=\"1\" class=\"dataframe\">\n",
       "  <thead>\n",
       "    <tr style=\"text-align: right;\">\n",
       "      <th></th>\n",
       "      <th>Unnamed: 0</th>\n",
       "      <th>border_count</th>\n",
       "      <th>depth</th>\n",
       "      <th>iterations</th>\n",
       "      <th>l2_leaf_reg</th>\n",
       "      <th>learning_rate</th>\n",
       "      <th>loss_function</th>\n",
       "      <th>score</th>\n",
       "    </tr>\n",
       "  </thead>\n",
       "  <tbody>\n",
       "    <tr>\n",
       "      <th>0</th>\n",
       "      <td>0</td>\n",
       "      <td>128</td>\n",
       "      <td>2</td>\n",
       "      <td>10000</td>\n",
       "      <td>1.000000e-19</td>\n",
       "      <td>0.003</td>\n",
       "      <td>Logloss</td>\n",
       "      <td>0.905200</td>\n",
       "    </tr>\n",
       "    <tr>\n",
       "      <th>1</th>\n",
       "      <td>1</td>\n",
       "      <td>128</td>\n",
       "      <td>2</td>\n",
       "      <td>10000</td>\n",
       "      <td>1.000000e-19</td>\n",
       "      <td>0.003</td>\n",
       "      <td>CrossEntropy</td>\n",
       "      <td>0.905200</td>\n",
       "    </tr>\n",
       "    <tr>\n",
       "      <th>2</th>\n",
       "      <td>2</td>\n",
       "      <td>128</td>\n",
       "      <td>2</td>\n",
       "      <td>10000</td>\n",
       "      <td>1.000000e-19</td>\n",
       "      <td>0.030</td>\n",
       "      <td>Logloss</td>\n",
       "      <td>0.924567</td>\n",
       "    </tr>\n",
       "  </tbody>\n",
       "</table>\n",
       "</div>"
      ],
      "text/plain": [
       "   Unnamed: 0  border_count  depth  iterations   l2_leaf_reg  learning_rate  \\\n",
       "0           0           128      2       10000  1.000000e-19          0.003   \n",
       "1           1           128      2       10000  1.000000e-19          0.003   \n",
       "2           2           128      2       10000  1.000000e-19          0.030   \n",
       "\n",
       "  loss_function     score  \n",
       "0       Logloss  0.905200  \n",
       "1  CrossEntropy  0.905200  \n",
       "2       Logloss  0.924567  "
      ]
     },
     "execution_count": 38,
     "metadata": {},
     "output_type": "execute_result"
    }
   ],
   "source": [
    "df.head(n=3)"
   ]
  },
  {
   "cell_type": "code",
   "execution_count": 39,
   "metadata": {},
   "outputs": [],
   "source": [
    "def compare(attribute, df):\n",
    "    options = df[attribute].unique()\n",
    "    print('\\n[{}]'.format(attribute))\n",
    "    for option in options:\n",
    "        values = df[df[attribute] == option]\n",
    "        mean = values.mean().score\n",
    "        std = values.std().score\n",
    "        print('{}: {} ± {}'.format(option, mean, std)) "
   ]
  },
  {
   "cell_type": "code",
   "execution_count": 40,
   "metadata": {},
   "outputs": [
    {
     "name": "stdout",
     "output_type": "stream",
     "text": [
      "\n",
      "[border_count]\n",
      "128: 0.9167888888888889 ± 0.00793885871814421\n",
      "254: 0.9169149999999999 ± 0.008059905088027484\n",
      "\n",
      "[l2_leaf_reg]\n",
      "1e-19: 0.9168097222222222 ± 0.008098628017441925\n",
      "2.7825594022071143e-19: 0.9168319444444445 ± 0.008108690865505672\n",
      "7.742636826811278e-19: 0.9168597222222221 ± 0.008145962985612126\n",
      "2.1544346900318774e-18: 0.9168249999999999 ± 0.008119650226873266\n",
      "5.994842503189421e-18: 0.9168791666666666 ± 0.008179630718782603\n",
      "1.6681005372000553e-17: 0.9168222222222221 ± 0.008123923439144963\n",
      "4.6415888336127915e-17: 0.9168680555555554 ± 0.0081490669817537\n",
      "1.2915496650148827e-16: 0.9168916666666668 ± 0.008162049863301173\n",
      "3.5938136638046264e-16: 0.9168569444444444 ± 0.008141095601984082\n",
      "9.999999999999999e-16: 0.916875 ± 0.008148514283239296\n",
      "\n",
      "[learning_rate]\n",
      "0.003: 0.9091924999999998 ± 0.003095291633882971\n",
      "0.03: 0.9245113888888887 ± 0.00030750026252584643\n",
      "\n",
      "[loss_function]\n",
      "Logloss: 0.9168324999999998 ± 0.007978155824174453\n",
      "CrossEntropy: 0.916871388888889 ± 0.008021460822217979\n",
      "\n",
      "[depth]\n",
      "2: 0.9149454166666666 ± 0.009802148568613988\n",
      "3: 0.9170766666666665 ± 0.00746696880039715\n",
      "4: 0.9185337499999999 ± 0.005862545286502046\n"
     ]
    }
   ],
   "source": [
    "compare('border_count', df)\n",
    "compare('l2_leaf_reg', df)\n",
    "compare('learning_rate', df)\n",
    "compare('loss_function', df)\n",
    "compare('depth', df)"
   ]
  },
  {
   "cell_type": "code",
   "execution_count": null,
   "metadata": {},
   "outputs": [],
   "source": []
  },
  {
   "cell_type": "code",
   "execution_count": null,
   "metadata": {},
   "outputs": [],
   "source": []
  }
 ],
 "metadata": {
  "kernelspec": {
   "display_name": "Python 3",
   "language": "python",
   "name": "python3"
  },
  "language_info": {
   "codemirror_mode": {
    "name": "ipython",
    "version": 3
   },
   "file_extension": ".py",
   "mimetype": "text/x-python",
   "name": "python",
   "nbconvert_exporter": "python",
   "pygments_lexer": "ipython3",
   "version": "3.6.6"
  }
 },
 "nbformat": 4,
 "nbformat_minor": 2
}
